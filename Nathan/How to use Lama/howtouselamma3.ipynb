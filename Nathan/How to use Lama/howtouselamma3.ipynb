{
 "cells": [
  {
   "cell_type": "markdown",
   "metadata": {},
   "source": [
    "### Here is a quick notebook on how to use lamma3 : <br>\n",
    "1 - Create an account at https://huggingface.co/ <br>\n",
    "2 - Go to https://huggingface.co/meta-llama/Llama-3.2-1B and ask for an access by accepting their policy. The owner fo the repo must accept it, it took a few hours for me. <br>\n",
    "Once this is done, you should have a little line saying the access is granted : <br> <br>\n",
    "![](images/granted.png) <br> <br>\n",
    "3 - Go to setting <br> <br>\n",
    "![](images/settings.png) <br> <br>\n",
    "and go to Access Token <br> <br>\n",
    "![](images/accesstoken.png) <br> <br>\n",
    "Then select create token <br> <br>\n",
    "![](images/create_token.png) <br> <br>\n",
    "and give access to the repo you want to access <br> <br>\n",
    "![](images/end_token.png) <br> <br>\n",
    "\n",
    "You can then try to run  the following code : "
   ]
  },
  {
   "cell_type": "code",
   "execution_count": null,
   "metadata": {},
   "outputs": [],
   "source": [
    "import torch\n",
    "from transformers import pipeline, AutoTokenizer, AutoModelForCausalLM\n",
    "\n",
    "model_id = \"meta-llama/Llama-3.2-1B\"\n",
    "\n",
    "# Load the tokenizer and model with the use_auth_token parameter\n",
    "tokenizer = AutoTokenizer.from_pretrained(model_id, use_auth_token=True)\n",
    "model = AutoModelForCausalLM.from_pretrained(model_id, use_auth_token=True)\n",
    "\n",
    "pipe = pipeline(\n",
    "    \"text-generation\", \n",
    "    model=model, \n",
    "    tokenizer=tokenizer, \n",
    "    torch_dtype=torch.bfloat16, \n",
    "    device_map=\"auto\"\n",
    ")\n",
    "\n",
    "# Now you can use the pipeline for text generation\n",
    "output = pipe(\"The key to life is\")\n",
    "print(output)\n"
   ]
  },
  {
   "cell_type": "markdown",
   "metadata": {},
   "source": [
    "Note : you need to hhave installed transformers and torch in order to execute this code"
   ]
  }
 ],
 "metadata": {
  "kernelspec": {
   "display_name": "base",
   "language": "python",
   "name": "python3"
  },
  "language_info": {
   "name": "python",
   "version": "3.12.3"
  }
 },
 "nbformat": 4,
 "nbformat_minor": 2
}
