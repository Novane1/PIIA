{
 "cells": [
  {
   "cell_type": "code",
   "execution_count": 5,
   "metadata": {},
   "outputs": [],
   "source": [
    "import torch\n",
    "from TTS.api import TTS\n",
    "\n",
    "from TTS.tts.configs.xtts_config import XttsConfig\n",
    "from TTS.tts.models.xtts import XttsAudioConfig\n",
    "from TTS.config.shared_configs import BaseDatasetConfig\n",
    "from TTS.tts.models.xtts import XttsArgs\n",
    "\n",
    "torch.serialization.add_safe_globals([XttsConfig])\n",
    "torch.serialization.add_safe_globals([XttsAudioConfig])\n",
    "torch.serialization.add_safe_globals([BaseDatasetConfig])\n",
    "torch.serialization.add_safe_globals([XttsArgs])"
   ]
  },
  {
   "cell_type": "code",
   "execution_count": 11,
   "metadata": {},
   "outputs": [
    {
     "name": "stdout",
     "output_type": "stream",
     "text": [
      "File [...]\n",
      " > tts_models/multilingual/multi-dataset/xtts_v2 is already downloaded.\n",
      " > Using model: xtts\n",
      " > Text splitted to sentences.\n",
      "['Bonjour tout le monde']\n",
      " > Processing time: 3.8894362449645996\n",
      " > Real-time factor: 2.4090468876817255\n"
     ]
    },
    {
     "data": {
      "text/plain": [
       "'output_audio/output_macron.wav'"
      ]
     },
     "execution_count": 11,
     "metadata": {},
     "output_type": "execute_result"
    }
   ],
   "source": [
    "# Run TTS\n",
    "# ❗ Since this model is multi-lingual voice cloning model, we must set the target speaker_wav and language\n",
    "# Text to speech list of amplitude values as output\n",
    "# wav = tts.tts(text=\"Hello world!\", speaker_wav=\"my/cloning/audio.wav\", language=\"en\")\n",
    "\n",
    "\n",
    "# Text to speech to a file\n",
    "print(\"File [...]\")\n",
    "tts = TTS(\"tts_models/multilingual/multi-dataset/xtts_v2\", progress_bar=False, gpu=False)\n",
    "tts.tts_to_file(text=\"Bonjour tout le monde\", speaker_wav=\"audio_sample/best_macron.wav\", language=\"fr\", file_path=\"output_audio/output_macron.wav\")\n",
    "\n",
    "#tts = TTS(\"tts_models/en/ljspeech/tacotron2-DDC\", progress_bar=False, gpu=False)\n",
    "# tts.tts_to_file(text=\"Bonjour tout le monde\", speaker_wav=\"audio/macron.wav\", file_path=\"output_audio/output_macron.wav\")"
   ]
  },
  {
   "cell_type": "code",
   "execution_count": null,
   "metadata": {},
   "outputs": [
    {
     "name": "stdout",
     "output_type": "stream",
     "text": [
      "The autoreload extension is already loaded. To reload it, use:\n",
      "  %reload_ext autoreload\n"
     ]
    }
   ],
   "source": [
    "%load_ext autoreload\n",
    "%autoreload 2\n",
    "\n",
    "from audio_sampler import extract_best_quality_sample\n",
    "\n",
    "best_macron = extract_best_quality_sample(\"audio_sample/macron.wav\",\"audio_sample/best_macron.wav\")\n"
   ]
  },
  {
   "cell_type": "markdown",
   "metadata": {},
   "source": [
    "Input : Lien vidéo -> récupérer un extrait de voix"
   ]
  }
 ],
 "metadata": {
  "kernelspec": {
   "display_name": "base",
   "language": "python",
   "name": "python3"
  },
  "language_info": {
   "codemirror_mode": {
    "name": "ipython",
    "version": 3
   },
   "file_extension": ".py",
   "mimetype": "text/x-python",
   "name": "python",
   "nbconvert_exporter": "python",
   "pygments_lexer": "ipython3",
   "version": "3.10.15"
  }
 },
 "nbformat": 4,
 "nbformat_minor": 2
}
