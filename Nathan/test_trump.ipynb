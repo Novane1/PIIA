{
 "cells": [
  {
   "cell_type": "code",
   "execution_count": 2,
   "metadata": {},
   "outputs": [
    {
     "name": "stdout",
     "output_type": "stream",
     "text": [
      "           id                                               link  \\\n",
      "0  1698308935  https://twitter.com/realDonaldTrump/status/169...   \n",
      "1  1701461182  https://twitter.com/realDonaldTrump/status/170...   \n",
      "2  1737479987  https://twitter.com/realDonaldTrump/status/173...   \n",
      "3  1741160716  https://twitter.com/realDonaldTrump/status/174...   \n",
      "4  1773561338  https://twitter.com/realDonaldTrump/status/177...   \n",
      "\n",
      "                                             content                 date  \\\n",
      "0  Be sure to tune in and watch Donald Trump on L...  2009-05-04 20:54:25   \n",
      "1  Donald Trump will be appearing on The View tom...  2009-05-05 03:00:10   \n",
      "2  Donald Trump reads Top Ten Financial Tips on L...  2009-05-08 15:38:08   \n",
      "3  New Blog Post: Celebrity Apprentice Finale and...  2009-05-08 22:40:15   \n",
      "4  \"My persona will never be that of a wallflower...  2009-05-12 16:07:28   \n",
      "\n",
      "   retweets  favorites mentions hashtags  geo  \n",
      "0       500        868      NaN      NaN  NaN  \n",
      "1        33        273      NaN      NaN  NaN  \n",
      "2        12         18      NaN      NaN  NaN  \n",
      "3        11         24      NaN      NaN  NaN  \n",
      "4      1399       1965      NaN      NaN  NaN  \n"
     ]
    }
   ],
   "source": [
    "import pandas as pd\n",
    "\n",
    "df = pd.read_csv('trump_data/trumptweets.csv')\n",
    "print(df.head())"
   ]
  },
  {
   "cell_type": "code",
   "execution_count": 3,
   "metadata": {},
   "outputs": [
    {
     "name": "stdout",
     "output_type": "stream",
     "text": [
      "Index(['id', 'link', 'content', 'date', 'retweets', 'favorites', 'mentions',\n",
      "       'hashtags', 'geo'],\n",
      "      dtype='object')\n"
     ]
    }
   ],
   "source": [
    "print(df.columns)"
   ]
  },
  {
   "cell_type": "code",
   "execution_count": 4,
   "metadata": {},
   "outputs": [
    {
     "name": "stdout",
     "output_type": "stream",
     "text": [
      "id                                          881503147168071680\n",
      "link         https://twitter.com/realDonaldTrump/status/881...\n",
      "content         # FraudNewsCNN # FNNpic.twitter.com/WYUnHjjUjg\n",
      "date                                       2017-07-02 15:21:42\n",
      "retweets                                                309892\n",
      "favorites                                               528265\n",
      "mentions                                                   NaN\n",
      "hashtags                                                   # #\n",
      "geo                                                        NaN\n",
      "Name: 32059, dtype: object\n"
     ]
    }
   ],
   "source": [
    "max_retweet_row = df.loc[df['retweets'].idxmax()]\n",
    "\n",
    "# Afficher la ligne\n",
    "print(max_retweet_row)"
   ]
  },
  {
   "cell_type": "code",
   "execution_count": null,
   "metadata": {},
   "outputs": [],
   "source": []
  }
 ],
 "metadata": {
  "kernelspec": {
   "display_name": "base",
   "language": "python",
   "name": "python3"
  },
  "language_info": {
   "codemirror_mode": {
    "name": "ipython",
    "version": 3
   },
   "file_extension": ".py",
   "mimetype": "text/x-python",
   "name": "python",
   "nbconvert_exporter": "python",
   "pygments_lexer": "ipython3",
   "version": "3.12.3"
  }
 },
 "nbformat": 4,
 "nbformat_minor": 2
}
